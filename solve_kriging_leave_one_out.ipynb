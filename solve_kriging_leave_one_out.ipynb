{
 "cells": [
  {
   "cell_type": "code",
   "execution_count": 1,
   "id": "d282404f",
   "metadata": {},
   "outputs": [
    {
     "data": {
      "image/png": "[encoded data removed]",
      "text/plain": [
       "<Figure size 432x288 with 1 Axes>"
      ]
     },
     "metadata": {
      "needs_background": "light"
     },
     "output_type": "display_data"
    },
    {
     "name": "stdout",
     "output_type": "stream",
     "text": [
      "0.599824350412499 0.5900272710156639\n"
     ]
    }
   ],
   "source": [
    "import numpy as np\n",
    "import matplotlib.pyplot as plt\n",
    "\n",
    "\n",
    "target_data = (np.random.beta(3, 2, 10000)).tolist()\n",
    "samples_data = (np.random.beta(1, 1, 10000))\n",
    "samples_data_original = samples_data.copy()\n",
    "\n",
    "remaining_indices = np.arange(len(samples_data))\n",
    "chosen_indicies = []\n",
    "\n",
    "# Bin the target data\n",
    "hist, bin_edges = np.histogram(target_data, bins=\"fd\")\n",
    "\n",
    "# Append and prepend a 0\n",
    "hist_modified_zeros = np.zeros(len(hist) + 2)\n",
    "hist_modified_zeros[1:-1] =  hist\n",
    "\n",
    "hist_modified_ones = np.ones(len(hist) + 2)\n",
    "hist_modified_ones[1:-1] =  hist\n",
    "\n",
    "chosen_data = []\n",
    "for counter in range(1000):\n",
    "    \n",
    "    # Map the samples to the bins\n",
    "    # If 0 is returned, the sample is to the left of the leftmost bin\n",
    "    # If len(bins) is returned, the sample is to the right of the rightmost bin\n",
    "    target_bin_idx = np.digitize(samples_data[remaining_indices], bins=bin_edges, right=False) # bins[i-1] <= x < bins[i]'\n",
    "\n",
    "    # Get weights\n",
    "    weights = hist_modified_zeros[target_bin_idx]\n",
    "    \n",
    "    if np.sum(weights) == 0:\n",
    "        weights = hist_modified_ones[target_bin_idx]\n",
    "\n",
    "    assert np.sum(weights) > 0\n",
    "\n",
    "    weights = weights / np.sum(weights)\n",
    "\n",
    "    chosen_index = np.random.choice(a=remaining_indices, p=weights, size=1)[0]\n",
    "    remaining_indices = remaining_indices[remaining_indices != chosen_index]\n",
    "    chosen_indicies.append(chosen_index)\n",
    "\n",
    "\n",
    "\n",
    "chosen_data = [samples_data_original[i] for i in chosen_indicies]\n",
    "\n",
    "\n",
    "plt.hist(target_data, bins=\"fd\", label=\"Target\", alpha=0.33, density=True)\n",
    "plt.hist(samples_data_original, bins=\"fd\", label=\"Samples\", alpha=0.33, density=True)\n",
    "plt.hist(chosen_data, bins=\"fd\", label=\"Chosen\", alpha=0.33, density=True)\n",
    "\n",
    "plt.legend()\n",
    "plt.show()\n",
    "\n",
    "\n",
    "\n",
    "\n",
    "print(np.mean(target_data), np.mean(chosen_data))"
   ]
  },
  {
   "cell_type": "code",
   "execution_count": 3,
   "id": "6909c098",
   "metadata": {},
   "outputs": [
    {
     "data": {
      "text/plain": [
       "array([11, 20,  0, ..., 34,  5, 10], dtype=int64)"
      ]
     },
     "execution_count": 3,
     "metadata": {},
     "output_type": "execute_result"
    }
   ],
   "source": [
    "target_bin_idx"
   ]
  },
  {
   "cell_type": "code",
   "execution_count": 2,
   "id": "bfbb726f",
   "metadata": {},
   "outputs": [
    {
     "ename": "ZeroDivisionError",
     "evalue": "division by zero",
     "output_type": "error",
     "traceback": [
      "\u001b[1;31m---------------------------------------------------------------------------\u001b[0m",
      "\u001b[1;31mZeroDivisionError\u001b[0m                         Traceback (most recent call last)",
      "\u001b[1;32m~\\AppData\\Local\\Temp\\ipykernel_1604\\2354412189.py\u001b[0m in \u001b[0;36m<cell line: 1>\u001b[1;34m()\u001b[0m\n\u001b[1;32m----> 1\u001b[1;33m \u001b[1;36m1\u001b[0m\u001b[1;33m/\u001b[0m\u001b[1;36m0\u001b[0m\u001b[1;33m\u001b[0m\u001b[1;33m\u001b[0m\u001b[0m\n\u001b[0m",
      "\u001b[1;31mZeroDivisionError\u001b[0m: division by zero"
     ]
    }
   ],
   "source": [
    "1/0"
   ]
  },
  {
   "cell_type": "code",
   "execution_count": null,
   "id": "7c255b4d",
   "metadata": {},
   "outputs": [],
   "source": [
    "from scipy.stats import kstest\n",
    "\n",
    "\n",
    "\n",
    "results = kstest(chosen_data, target_data, alternative='two-sided')\n",
    "print(\"probability that they are identical\", results.pvalue)"
   ]
  },
  {
   "cell_type": "code",
   "execution_count": null,
   "id": "07e8b2f2",
   "metadata": {},
   "outputs": [],
   "source": []
  },
  {
   "cell_type": "code",
   "execution_count": null,
   "id": "793d1b71",
   "metadata": {},
   "outputs": [],
   "source": []
  },
  {
   "cell_type": "code",
   "execution_count": null,
   "id": "ec2eb382",
   "metadata": {},
   "outputs": [],
   "source": []
  },
  {
   "cell_type": "code",
   "execution_count": null,
   "id": "a1e21a59",
   "metadata": {},
   "outputs": [],
   "source": []
  },
  {
   "cell_type": "code",
   "execution_count": null,
   "id": "2fa7b621",
   "metadata": {},
   "outputs": [],
   "source": [
    "target_data"
   ]
  },
  {
   "cell_type": "code",
   "execution_count": null,
   "id": "30a8a573",
   "metadata": {},
   "outputs": [],
   "source": [
    "# Bin the target data\n",
    "hist, bin_edges = np.histogram(target_data, bins=\"fd\")\n",
    "hist, bin_edges"
   ]
  },
  {
   "cell_type": "code",
   "execution_count": null,
   "id": "3f1adde5",
   "metadata": {},
   "outputs": [],
   "source": [
    "samples_data"
   ]
  },
  {
   "cell_type": "code",
   "execution_count": null,
   "id": "d13a8b0d",
   "metadata": {},
   "outputs": [],
   "source": [
    "# If 0 is returned, the sample is to the left of the leftmost bin\n",
    "# If len(bins) is returned, the sample is to the right of the rightmost bin\n",
    "target_bin_idx = np.digitize(samples_data, bins=bin_edges, right=False) # bins[i-1] <= x < bins[i]'\n",
    "target_bin_idx\n",
    "\n",
    "hist_modified = np.array([0] + list(hist) + [0])\n",
    "weights = hist_modified[target_bin_idx]\n",
    "\n",
    "assert np.sum(weights) > 0\n"
   ]
  },
  {
   "cell_type": "code",
   "execution_count": null,
   "id": "97ee9d1f",
   "metadata": {},
   "outputs": [],
   "source": [
    "hist"
   ]
  },
  {
   "cell_type": "code",
   "execution_count": null,
   "id": "3f89a2df",
   "metadata": {},
   "outputs": [],
   "source": [
    "hist[target_bin_idx-1]"
   ]
  },
  {
   "cell_type": "code",
   "execution_count": null,
   "id": "546a22cd",
   "metadata": {},
   "outputs": [],
   "source": [
    "weights = hist[target_bin_idx-2]\n",
    "\n",
    "\n",
    "weights_trimmed = weights.copy()\n",
    "# Samples larger than the largest bin in the target have weights set to zero\n",
    "weights_trimmed[samples_data >  bin_edges[-1]] = 0\n",
    "weights_trimmed[samples_data < bin_edges[0]] = 0\n",
    "\n",
    "# If trimmed weight can be used, use them\n",
    "if np.sum(weights_trimmed) > 0:\n",
    "    weights = weights_trimmed\n",
    "    \n",
    "weights = weights / np.sum(weights)\n",
    "\n",
    "chosen_point = np.random.choice(a=samples_data, p=weights, size=1)[0]"
   ]
  },
  {
   "cell_type": "code",
   "execution_count": null,
   "id": "aea734af",
   "metadata": {},
   "outputs": [],
   "source": [
    "plt.plot(weights)"
   ]
  },
  {
   "cell_type": "code",
   "execution_count": null,
   "id": "11d49677",
   "metadata": {},
   "outputs": [],
   "source": []
  },
  {
   "cell_type": "code",
   "execution_count": null,
   "id": "31ea08b0",
   "metadata": {},
   "outputs": [],
   "source": [
    "bins = np.histogram_bin_edges(target_data, bins=\"fd\")\n",
    "\n",
    "# hist => count of values in each interval\n",
    "# bin_edges => egdes of each interval\n",
    "hist, bin_edges = np.histogram(target_data, bins=bins)\n",
    "\n",
    "hist, bin_edges"
   ]
  },
  {
   "cell_type": "code",
   "execution_count": null,
   "id": "fcce0bac",
   "metadata": {},
   "outputs": [],
   "source": [
    "np.digitize(target_data, bins=bins)"
   ]
  },
  {
   "cell_type": "code",
   "execution_count": null,
   "id": "b4881bee",
   "metadata": {},
   "outputs": [],
   "source": []
  },
  {
   "cell_type": "code",
   "execution_count": null,
   "id": "492752cb",
   "metadata": {},
   "outputs": [],
   "source": []
  },
  {
   "cell_type": "code",
   "execution_count": null,
   "id": "b01bac85",
   "metadata": {},
   "outputs": [],
   "source": [
    "from numpy.linalg import cholesky\n",
    "import numpy as np\n",
    "\n",
    "n = 3\n",
    "\n",
    "y = np.arange(n) + 1\n",
    "F = np.random.random(size=(n, n))\n",
    "K = F.T @ F\n",
    "\n",
    "\n",
    "\n",
    "y, K"
   ]
  },
  {
   "cell_type": "code",
   "execution_count": null,
   "id": "6c2cfa45",
   "metadata": {},
   "outputs": [],
   "source": []
  },
  {
   "cell_type": "code",
   "execution_count": null,
   "id": "aa9c57c1",
   "metadata": {},
   "outputs": [],
   "source": [
    "preds1 = y[1:] @ np.linalg.solve(K[1:, 1:], K[1:, 0])\n",
    "\n",
    "preds1"
   ]
  },
  {
   "cell_type": "code",
   "execution_count": null,
   "id": "a16d99f7",
   "metadata": {},
   "outputs": [],
   "source": [
    "K_inv = np.linalg.inv(K)\n",
    "\n",
    "-(K_inv[0, 1:]/ K_inv[0, 0]) @ y[1:]"
   ]
  },
  {
   "cell_type": "code",
   "execution_count": null,
   "id": "3f387552",
   "metadata": {},
   "outputs": [],
   "source": [
    "e = np.ones(n, dtype=bool)\n",
    "e[1] = 0\n",
    "\n",
    "preds1 = (y[e]) @ np.linalg.solve(K[e,:][:, e], K[e, 1])\n",
    "\n",
    "preds1"
   ]
  },
  {
   "cell_type": "code",
   "execution_count": null,
   "id": "0d19afaf",
   "metadata": {},
   "outputs": [],
   "source": [
    "K_inv = np.linalg.inv(K)\n",
    "\n",
    "-(K_inv[1, e]/ K_inv[1, 1]) @ y[e]"
   ]
  },
  {
   "cell_type": "code",
   "execution_count": null,
   "id": "e1947a8d",
   "metadata": {},
   "outputs": [],
   "source": []
  }
 ],
 "metadata": {
  "kernelspec": {
   "display_name": "Python venv_fair_train_test",
   "language": "python",
   "name": "venv"
  },
  "language_info": {
   "codemirror_mode": {
    "name": "ipython",
    "version": 3
   },
   "file_extension": ".py",
   "mimetype": "text/x-python",
   "name": "python",
   "nbconvert_exporter": "python",
   "pygments_lexer": "ipython3",
   "version": "3.8.10"
  }
 },
 "nbformat": 4,
 "nbformat_minor": 5
}
